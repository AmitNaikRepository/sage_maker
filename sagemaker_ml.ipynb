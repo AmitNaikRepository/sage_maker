{
 "cells": [
  {
   "cell_type": "code",
   "execution_count": 1,
   "metadata": {},
   "outputs": [],
   "source": [
    "import boto3\n",
    "import sagemaker \n",
    "from sagemaker.amazon.amazon_estimator import get_image_uri\n",
    "from sagemaker.session import s3_input, Session "
   ]
  },
  {
   "cell_type": "code",
   "execution_count": 2,
   "metadata": {},
   "outputs": [
    {
     "name": "stdout",
     "output_type": "stream",
     "text": [
      "us-east-1\n"
     ]
    }
   ],
   "source": [
    "bucket_name='bankapplication23'\n",
    "my_region=boto3.session.Session().region_name\n",
    "print(my_region)"
   ]
  },
  {
   "cell_type": "code",
   "execution_count": null,
   "metadata": {},
   "outputs": [],
   "source": [
    "# if you want to chcek if the bucket is already exits use this code for simplicity not used it \n",
    "'''\n",
    "from botocore.client import ClientError\n",
    "\n",
    "try:\n",
    "    s3.meta.client.head_bucket(Bucket=bucket.name)\n",
    "except ClientError:\n",
    "'''"
   ]
  },
  {
   "cell_type": "code",
   "execution_count": 7,
   "metadata": {},
   "outputs": [
    {
     "name": "stdout",
     "output_type": "stream",
     "text": [
      "S3 bucket created successfully\n"
     ]
    }
   ],
   "source": [
    "\n",
    "s3 = boto3.resource('s3')\n",
    "try:\n",
    "    if  my_region == 'us-east-1':\n",
    "        s3.create_bucket(Bucket=bucket_name)\n",
    "    print('S3 bucket created successfully')\n",
    "except Exception as e:\n",
    "    print('S3 error: ',e)"
   ]
  },
  {
   "cell_type": "code",
   "execution_count": null,
   "metadata": {},
   "outputs": [],
   "source": []
  },
  {
   "cell_type": "code",
   "execution_count": null,
   "metadata": {},
   "outputs": [],
   "source": []
  },
  {
   "cell_type": "code",
   "execution_count": 3,
   "metadata": {},
   "outputs": [
    {
     "name": "stdout",
     "output_type": "stream",
     "text": [
      "s3://bankapplication23/xgboost_as_a_built_in_algo/output\n"
     ]
    }
   ],
   "source": [
    "prefix='xgboost_as_a_built_in_algo'\n",
    "output_path='s3://{}/{}/output'.format(bucket_name,prefix)\n",
    "print(output_path)"
   ]
  },
  {
   "cell_type": "code",
   "execution_count": 4,
   "metadata": {},
   "outputs": [
    {
     "name": "stdout",
     "output_type": "stream",
     "text": [
      "Success: downloaded bank_clean.csv.\n",
      "Success: Data loaded into dataframe.\n"
     ]
    }
   ],
   "source": [
    "import pandas as pd\n",
    "import urllib\n",
    "try:\n",
    "    urllib.request.urlretrieve (\"https://d1.awsstatic.com/tmt/build-train-deploy-machine-learning-model-sagemaker/bank_clean.27f01fbbdf43271788427f3682996ae29ceca05d.csv\", \"bank_clean.csv\")\n",
    "    print('Success: downloaded bank_clean.csv.')\n",
    "except Exception as e:\n",
    "    print('Data load error: ',e)\n",
    "\n",
    "try:\n",
    "    model_data = pd.read_csv('./bank_clean.csv',index_col=0)\n",
    "    print('Success: Data loaded into dataframe.')\n",
    "except Exception as e:\n",
    "    print('Data load error: ',e)"
   ]
  },
  {
   "cell_type": "code",
   "execution_count": 5,
   "metadata": {},
   "outputs": [
    {
     "name": "stdout",
     "output_type": "stream",
     "text": [
      "(28831, 61) (12357, 61)\n"
     ]
    }
   ],
   "source": [
    "import numpy as np\n",
    "train_data, test_data = np.split(model_data.sample(frac=1, random_state=1729), [int(0.7 * len(model_data))])\n",
    "print(train_data.shape, test_data.shape)"
   ]
  },
  {
   "cell_type": "code",
   "execution_count": 7,
   "metadata": {},
   "outputs": [
    {
     "name": "stderr",
     "output_type": "stream",
     "text": [
      "'s3_input' class will be renamed to 'TrainingInput' in SageMaker Python SDK v2.\n"
     ]
    }
   ],
   "source": [
    "import os\n",
    "pd.concat([train_data['y_yes'], train_data.drop(['y_no', 'y_yes'], \n",
    "                                                axis=1)], \n",
    "                                                axis=1).to_csv('train.csv', index=False, header=False)\n",
    "boto3.Session().resource('s3').Bucket(bucket_name).Object(os.path.join(prefix, 'train/train.csv')).upload_file('train.csv')\n",
    "s3_input_train = sagemaker.s3_input(s3_data='s3://{}/{}/train'.format(bucket_name, prefix), content_type='csv')"
   ]
  },
  {
   "cell_type": "code",
   "execution_count": 14,
   "metadata": {},
   "outputs": [
    {
     "name": "stderr",
     "output_type": "stream",
     "text": [
      "'s3_input' class will be renamed to 'TrainingInput' in SageMaker Python SDK v2.\n"
     ]
    }
   ],
   "source": [
    "import os\n",
    "pd.concat([train_data['y_yes'], train_data.drop(['y_no', 'y_yes'], \n",
    "                                                axis=1)], \n",
    "                                                axis=1).to_csv('train.csv', index=False, header=False)\n",
    "boto3.Session().resource('s3').Bucket(bucket_name).Object(os.path.join(prefix, 'train/train.csv')).upload_file('train.csv')\n",
    "s3_input_test = sagemaker.s3_input(s3_data='s3://{}/{}/train'.format(bucket_name, prefix), content_type='csv')"
   ]
  },
  {
   "cell_type": "markdown",
   "metadata": {},
   "source": [
    "# building model XGboost inbuilt Algorithm "
   ]
  },
  {
   "cell_type": "code",
   "execution_count": 15,
   "metadata": {},
   "outputs": [
    {
     "name": "stderr",
     "output_type": "stream",
     "text": [
      "'get_image_uri' method will be deprecated in favor of 'ImageURIProvider' class in SageMaker Python SDK v2.\n"
     ]
    }
   ],
   "source": [
    "container = get_image_uri(boto3.Session().region_name,\n",
    "                          'xgboost', \n",
    "                          repo_version='1.0-1')"
   ]
  },
  {
   "cell_type": "code",
   "execution_count": 16,
   "metadata": {},
   "outputs": [],
   "source": [
    "#initalize the hyperparamenter \n",
    "hyperparameters={\n",
    "    'max_depth':'5',\n",
    "    'eta':'0.2',\n",
    "    'gamma':'4',\n",
    "    'min_child_weight':'6',\n",
    "    'subsample':'0.7',\n",
    "    'objective':'binary:logistic',\n",
    "    'num_round':50\n",
    "}"
   ]
  },
  {
   "cell_type": "code",
   "execution_count": 17,
   "metadata": {},
   "outputs": [
    {
     "name": "stderr",
     "output_type": "stream",
     "text": [
      "Parameter image_name will be renamed to image_uri in SageMaker Python SDK v2.\n"
     ]
    }
   ],
   "source": [
    "#now we can construct the estimator that calls out the xgboost-container\n",
    "estimator = sagemaker.estimator.Estimator(image_name=container, \n",
    "                                          hyperparameters=hyperparameters,\n",
    "                                          role=sagemaker.get_execution_role(),\n",
    "                                          train_instance_count=1, \n",
    "                                          train_instance_type='ml.m5.2xlarge', \n",
    "                                          train_volume_size=5, # 5 GB \n",
    "                                          output_path=output_path,\n",
    "                                          train_use_spot_instances=True,\n",
    "                                          train_max_run=300,\n",
    "                                          train_max_wait=600)"
   ]
  },
  {
   "cell_type": "code",
   "execution_count": 18,
   "metadata": {},
   "outputs": [
    {
     "name": "stdout",
     "output_type": "stream",
     "text": [
      "2020-10-28 05:37:14 Starting - Starting the training job...\n",
      "2020-10-28 05:37:16 Starting - Launching requested ML instances......\n",
      "2020-10-28 05:38:28 Starting - Preparing the instances for training...\n",
      "2020-10-28 05:39:04 Downloading - Downloading input data...\n",
      "2020-10-28 05:39:41 Training - Training image download completed. Training in progress..\u001b[34mINFO:sagemaker-containers:Imported framework sagemaker_xgboost_container.training\u001b[0m\n",
      "\u001b[34mINFO:sagemaker-containers:Failed to parse hyperparameter objective value binary:logistic to Json.\u001b[0m\n",
      "\u001b[34mReturning the value itself\u001b[0m\n",
      "\u001b[34mINFO:sagemaker-containers:No GPUs detected (normal if no gpus installed)\u001b[0m\n",
      "\u001b[34mINFO:sagemaker_xgboost_container.training:Running XGBoost Sagemaker in algorithm mode\u001b[0m\n",
      "\u001b[34mINFO:root:Determined delimiter of CSV input is ','\u001b[0m\n",
      "\u001b[34mINFO:root:Determined delimiter of CSV input is ','\u001b[0m\n",
      "\u001b[34mINFO:root:Determined delimiter of CSV input is ','\u001b[0m\n",
      "\u001b[34m[05:39:43] 28831x59 matrix with 1701029 entries loaded from /opt/ml/input/data/train?format=csv&label_column=0&delimiter=,\u001b[0m\n",
      "\u001b[34mINFO:root:Determined delimiter of CSV input is ','\u001b[0m\n",
      "\u001b[34m[05:39:43] 28831x59 matrix with 1701029 entries loaded from /opt/ml/input/data/validation?format=csv&label_column=0&delimiter=,\u001b[0m\n",
      "\u001b[34mINFO:root:Single node training.\u001b[0m\n",
      "\u001b[34mINFO:root:Train matrix has 28831 rows\u001b[0m\n",
      "\u001b[34mINFO:root:Validation matrix has 28831 rows\u001b[0m\n",
      "\u001b[34m[05:39:43] WARNING: /workspace/src/learner.cc:328: \u001b[0m\n",
      "\u001b[34mParameters: { num_round } might not be used.\n",
      "\n",
      "  This may not be accurate due to some parameters are only used in language bindings but\n",
      "  passed down to XGBoost core.  Or some parameters are not used but slip through this\n",
      "  verification. Please open an issue if you find above cases.\n",
      "\n",
      "\u001b[0m\n",
      "\u001b[34m[0]#011train-error:0.10079#011validation-error:0.10079\u001b[0m\n",
      "\u001b[34m[1]#011train-error:0.09968#011validation-error:0.09968\u001b[0m\n",
      "\u001b[34m[2]#011train-error:0.10017#011validation-error:0.10017\u001b[0m\n",
      "\u001b[34m[3]#011train-error:0.09989#011validation-error:0.09989\u001b[0m\n",
      "\u001b[34m[4]#011train-error:0.09996#011validation-error:0.09996\u001b[0m\n",
      "\u001b[34m[5]#011train-error:0.09906#011validation-error:0.09906\u001b[0m\n",
      "\u001b[34m[6]#011train-error:0.09930#011validation-error:0.09930\u001b[0m\n",
      "\u001b[34m[7]#011train-error:0.09951#011validation-error:0.09951\u001b[0m\n",
      "\u001b[34m[8]#011train-error:0.09920#011validation-error:0.09920\u001b[0m\n",
      "\u001b[34m[9]#011train-error:0.09871#011validation-error:0.09871\u001b[0m\n",
      "\u001b[34m[10]#011train-error:0.09868#011validation-error:0.09868\u001b[0m\n",
      "\u001b[34m[11]#011train-error:0.09868#011validation-error:0.09868\u001b[0m\n",
      "\u001b[34m[12]#011train-error:0.09854#011validation-error:0.09854\u001b[0m\n",
      "\u001b[34m[13]#011train-error:0.09892#011validation-error:0.09892\u001b[0m\n",
      "\u001b[34m[14]#011train-error:0.09850#011validation-error:0.09850\u001b[0m\n",
      "\u001b[34m[15]#011train-error:0.09844#011validation-error:0.09844\u001b[0m\n",
      "\u001b[34m[16]#011train-error:0.09857#011validation-error:0.09857\u001b[0m\n",
      "\u001b[34m[17]#011train-error:0.09799#011validation-error:0.09799\u001b[0m\n",
      "\u001b[34m[18]#011train-error:0.09816#011validation-error:0.09816\u001b[0m\n",
      "\u001b[34m[19]#011train-error:0.09857#011validation-error:0.09857\u001b[0m\n",
      "\u001b[34m[20]#011train-error:0.09830#011validation-error:0.09830\u001b[0m\n",
      "\u001b[34m[21]#011train-error:0.09826#011validation-error:0.09826\u001b[0m\n",
      "\u001b[34m[22]#011train-error:0.09847#011validation-error:0.09847\u001b[0m\n",
      "\u001b[34m[23]#011train-error:0.09833#011validation-error:0.09833\u001b[0m\n",
      "\u001b[34m[24]#011train-error:0.09812#011validation-error:0.09812\u001b[0m\n",
      "\u001b[34m[25]#011train-error:0.09812#011validation-error:0.09812\u001b[0m\n",
      "\u001b[34m[26]#011train-error:0.09774#011validation-error:0.09774\u001b[0m\n",
      "\u001b[34m[27]#011train-error:0.09781#011validation-error:0.09781\u001b[0m\n",
      "\u001b[34m[28]#011train-error:0.09781#011validation-error:0.09781\u001b[0m\n",
      "\u001b[34m[29]#011train-error:0.09778#011validation-error:0.09778\u001b[0m\n",
      "\u001b[34m[30]#011train-error:0.09781#011validation-error:0.09781\u001b[0m\n",
      "\u001b[34m[31]#011train-error:0.09771#011validation-error:0.09771\u001b[0m\n",
      "\u001b[34m[32]#011train-error:0.09743#011validation-error:0.09743\u001b[0m\n",
      "\u001b[34m[33]#011train-error:0.09753#011validation-error:0.09753\u001b[0m\n",
      "\u001b[34m[34]#011train-error:0.09767#011validation-error:0.09767\u001b[0m\n",
      "\u001b[34m[35]#011train-error:0.09757#011validation-error:0.09757\u001b[0m\n",
      "\u001b[34m[36]#011train-error:0.09757#011validation-error:0.09757\u001b[0m\n",
      "\u001b[34m[37]#011train-error:0.09736#011validation-error:0.09736\u001b[0m\n",
      "\u001b[34m[38]#011train-error:0.09750#011validation-error:0.09750\u001b[0m\n",
      "\u001b[34m[39]#011train-error:0.09733#011validation-error:0.09733\u001b[0m\n",
      "\u001b[34m[40]#011train-error:0.09705#011validation-error:0.09705\u001b[0m\n",
      "\u001b[34m[41]#011train-error:0.09701#011validation-error:0.09701\u001b[0m\n",
      "\u001b[34m[42]#011train-error:0.09712#011validation-error:0.09712\u001b[0m\n",
      "\u001b[34m[43]#011train-error:0.09698#011validation-error:0.09698\u001b[0m\n",
      "\u001b[34m[44]#011train-error:0.09733#011validation-error:0.09733\u001b[0m\n",
      "\u001b[34m[45]#011train-error:0.09736#011validation-error:0.09736\u001b[0m\n",
      "\u001b[34m[46]#011train-error:0.09746#011validation-error:0.09746\u001b[0m\n",
      "\u001b[34m[47]#011train-error:0.09736#011validation-error:0.09736\u001b[0m\n",
      "\u001b[34m[48]#011train-error:0.09712#011validation-error:0.09712\u001b[0m\n",
      "\u001b[34m[49]#011train-error:0.09712#011validation-error:0.09712\u001b[0m\n",
      "\n",
      "2020-10-28 05:39:54 Uploading - Uploading generated training model\n",
      "2020-10-28 05:39:54 Completed - Training job completed\n",
      "Training seconds: 50\n",
      "Billable seconds: 23\n",
      "Managed Spot Training savings: 54.0%\n"
     ]
    }
   ],
   "source": [
    "#now we want to fit the model \n",
    "estimator.fit({'train': s3_input_train,'validation': s3_input_test})"
   ]
  },
  {
   "cell_type": "markdown",
   "metadata": {},
   "source": [
    "# Now lets deploy as endpoint where we can inference with this\n"
   ]
  },
  {
   "cell_type": "code",
   "execution_count": 19,
   "metadata": {},
   "outputs": [
    {
     "name": "stderr",
     "output_type": "stream",
     "text": [
      "Parameter image will be renamed to image_uri in SageMaker Python SDK v2.\n"
     ]
    },
    {
     "name": "stdout",
     "output_type": "stream",
     "text": [
      "---------------!"
     ]
    }
   ],
   "source": [
    "\n",
    "xgb_predictor = estimator.deploy(initial_instance_count=1,instance_type='ml.m4.xlarge')"
   ]
  },
  {
   "cell_type": "code",
   "execution_count": 23,
   "metadata": {},
   "outputs": [
    {
     "name": "stdout",
     "output_type": "stream",
     "text": [
      "(12357,)\n"
     ]
    }
   ],
   "source": [
    "from sagemaker.predictor import csv_serializer\n",
    "test_data_array = test_data.drop(['y_no', 'y_yes'], axis=1).values #load the data into an array\n",
    "xgb_predictor.content_type = 'text/csv' # set the data type for an inference\n",
    "xgb_predictor.serializer = csv_serializer # set the serializer type\n",
    "predictions = xgb_predictor.predict(test_data_array).decode('utf-8') # predict!\n",
    "predictions_array = np.fromstring(predictions[1:], sep=',') # and turn the prediction into an array\n",
    "print(predictions_array.shape)"
   ]
  },
  {
   "cell_type": "code",
   "execution_count": 26,
   "metadata": {},
   "outputs": [
    {
     "data": {
      "text/plain": [
       "array([0.05214286, 0.05660191, 0.05096195, ..., 0.03436061, 0.02942475,\n",
       "       0.03715819])"
      ]
     },
     "execution_count": 26,
     "metadata": {},
     "output_type": "execute_result"
    }
   ],
   "source": [
    "predictions_array"
   ]
  },
  {
   "cell_type": "code",
   "execution_count": 27,
   "metadata": {},
   "outputs": [
    {
     "name": "stdout",
     "output_type": "stream",
     "text": [
      "\n",
      "Overall Classification Rate: 89.7%\n",
      "\n",
      "Predicted      No Purchase    Purchase\n",
      "Observed\n",
      "No Purchase    91% (10785)    34% (151)\n",
      "Purchase        9% (1124)     66% (297) \n",
      "\n"
     ]
    }
   ],
   "source": [
    "cm = pd.crosstab(index=test_data['y_yes'], columns=np.round(predictions_array), rownames=['Observed'], colnames=['Predicted'])\n",
    "tn = cm.iloc[0,0]; fn = cm.iloc[1,0]; tp = cm.iloc[1,1]; fp = cm.iloc[0,1]; p = (tp+tn)/(tp+tn+fp+fn)*100\n",
    "print(\"\\n{0:<20}{1:<4.1f}%\\n\".format(\"Overall Classification Rate: \", p))\n",
    "print(\"{0:<15}{1:<15}{2:>8}\".format(\"Predicted\", \"No Purchase\", \"Purchase\"))\n",
    "print(\"Observed\")\n",
    "print(\"{0:<15}{1:<2.0f}% ({2:<}){3:>6.0f}% ({4:<})\".format(\"No Purchase\", tn/(tn+fn)*100,tn, fp/(tp+fp)*100, fp))\n",
    "print(\"{0:<16}{1:<1.0f}% ({2:<}){3:>7.0f}% ({4:<}) \\n\".format(\"Purchase\", fn/(tn+fn)*100,fn, tp/(tp+fp)*100, tp))"
   ]
  },
  {
   "cell_type": "markdown",
   "metadata": {},
   "source": [
    "# we must delete the endpoints of sagemaker  "
   ]
  },
  {
   "cell_type": "code",
   "execution_count": 28,
   "metadata": {},
   "outputs": [
    {
     "data": {
      "text/plain": [
       "[{'ResponseMetadata': {'RequestId': '98FEF88C984FA8AE',\n",
       "   'HostId': 'OYsXqBGtFKtpmxNaGtiTPE7Lr4/3bqlVBtXrFtTVPkMY8/RpPZCGIrIiWin72ATQdk3kkKI1QFg=',\n",
       "   'HTTPStatusCode': 200,\n",
       "   'HTTPHeaders': {'x-amz-id-2': 'OYsXqBGtFKtpmxNaGtiTPE7Lr4/3bqlVBtXrFtTVPkMY8/RpPZCGIrIiWin72ATQdk3kkKI1QFg=',\n",
       "    'x-amz-request-id': '98FEF88C984FA8AE',\n",
       "    'date': 'Wed, 28 Oct 2020 07:33:51 GMT',\n",
       "    'connection': 'close',\n",
       "    'content-type': 'application/xml',\n",
       "    'transfer-encoding': 'chunked',\n",
       "    'server': 'AmazonS3'},\n",
       "   'RetryAttempts': 0},\n",
       "  'Deleted': [{'Key': 'xgboost_as_a_built_in_algo/train/train.csv'},\n",
       "   {'Key': 'xgboost_as_a_built_in_algo/output/sagemaker-xgboost-2020-10-28-05-37-14-275/output/model.tar.gz'}]}]"
      ]
     },
     "execution_count": 28,
     "metadata": {},
     "output_type": "execute_result"
    }
   ],
   "source": [
    "\n",
    "sagemaker.Session().delete_endpoint(xgb_predictor.endpoint)\n",
    "bucket_to_delete = boto3.resource('s3').Bucket(bucket_name)\n",
    "bucket_to_delete.objects.all().delete()"
   ]
  }
 ],
 "metadata": {
  "kernelspec": {
   "display_name": "conda_python3",
   "language": "python",
   "name": "conda_python3"
  },
  "language_info": {
   "codemirror_mode": {
    "name": "ipython",
    "version": 3
   },
   "file_extension": ".py",
   "mimetype": "text/x-python",
   "name": "python",
   "nbconvert_exporter": "python",
   "pygments_lexer": "ipython3",
   "version": "3.6.10"
  }
 },
 "nbformat": 4,
 "nbformat_minor": 4
}
